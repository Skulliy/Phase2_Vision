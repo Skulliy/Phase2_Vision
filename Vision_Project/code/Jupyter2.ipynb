{
 "cells": [
  {
   "attachments": {},
   "cell_type": "markdown",
   "metadata": {},
   "source": [
    "#Some changes were done to perception.py\n",
    "1) added code to update the world map only when the rover is flat on the ground aka (pitch and roll close to or equal 0 or 360)"
   ]
  },
  {
   "cell_type": "code",
   "execution_count": null,
   "metadata": {},
   "outputs": [],
   "source": [
    "if (Rover.pitch < 1 or Rover.pitch > 359) and (Rover.roll < 1 or Rover.roll > 359):\n",
    "        Rover.worldmap[o_y, o_x, 0] = 255\n",
    "        Rover.worldmap[rock_y, rock_x,1] = 255\n",
    "        Rover.worldmap[navigable_y, navigable_x, 2] = 255\n",
    "        # remove overlap mesurements\n",
    "        nav_pix = Rover.worldmap[:, :, 2] > 0\n",
    "        Rover.worldmap[nav_pix, 0] = 0\n",
    "        # clip to avoid overflow\n",
    "        Rover.worldmap = np.clip(Rover.worldmap, 0, 255)\n",
    "        Rover.worldmap[o_y, o_x, 0] += 1\n",
    "        Rover.worldmap[rock_y, rock_x, 1] += 1\n",
    "        Rover.worldmap[navigable_y, navigable_x, 2] += 1\n",
    "    return Rover"
   ]
  },
  {
   "attachments": {},
   "cell_type": "markdown",
   "metadata": {},
   "source": [
    "2)added the polar angles and distances of the rock sample"
   ]
  },
  {
   "cell_type": "code",
   "execution_count": null,
   "metadata": {},
   "outputs": [],
   "source": [
    "x1,y1 = rover_coords(rock_samples)\n",
    "dst, angles = to_polar_coords(x1, y1)"
   ]
  },
  {
   "attachments": {},
   "cell_type": "markdown",
   "metadata": {},
   "source": [
    "3) added limit_range function to limit the range of the rovers camera in an attempt to improve fidelity"
   ]
  },
  {
   "cell_type": "code",
   "execution_count": null,
   "metadata": {},
   "outputs": [],
   "source": [
    "def limit_range(x,y,range = 80):\n",
    "    dist= np.sqrt(x**2 + y**2)\n",
    "    return x[dist < range], y[dist < range]"
   ]
  },
  {
   "attachments": {},
   "cell_type": "markdown",
   "metadata": {},
   "source": [
    "In decision step we mostly overhauled the code and added different elements to help the rover navigate and find all the rock samples\n",
    "1) We moved the rock pick up condition to be the first thing checked in the decision step"
   ]
  },
  {
   "cell_type": "code",
   "execution_count": null,
   "metadata": {},
   "outputs": [],
   "source": [
    "if Rover.near_sample and Rover.vel == 0 and not Rover.picking_up:\n",
    "        Rover.send_pickup = True\n",
    "        return Rover"
   ]
  },
  {
   "attachments": {},
   "cell_type": "markdown",
   "metadata": {},
   "source": [
    "2) Next we check whether we are near the sample or not in order to send a pick up command"
   ]
  },
  {
   "cell_type": "code",
   "execution_count": null,
   "metadata": {},
   "outputs": [],
   "source": [
    "if Rover.near_sample:\n",
    "        Rover.mode = 'stop'\n",
    "        Rover.throttle = 0\n",
    "        Rover.brake = Rover.brake_set\n",
    "        # Rover.send_pickup = True\n",
    "        return Rover"
   ]
  },
  {
   "attachments": {},
   "cell_type": "markdown",
   "metadata": {},
   "source": [
    "3) next we check if we are stuck in a circle then the rover moves forward if it is stuck in a circle"
   ]
  },
  {
   "cell_type": "code",
   "execution_count": null,
   "metadata": {},
   "outputs": [],
   "source": [
    "if Rover.mode == \"stuckCircle\":\n",
    "        if time.time() - circle_start_time > 15:\n",
    "            Rover.mode = \"forward\"\n",
    "            circle_start_time=time.time()\n",
    "        else:\n",
    "            Rover.throttle = 0\n",
    "            Rover.brake = 0\n",
    "            Rover.steer = -10\n",
    "        return Rover"
   ]
  },
  {
   "attachments": {},
   "cell_type": "markdown",
   "metadata": {},
   "source": [
    "4) we added some code to detect if we pass the rock (this code shouldnt execute since we almost always pick up the rock)"
   ]
  },
  {
   "cell_type": "code",
   "execution_count": null,
   "metadata": {},
   "outputs": [],
   "source": [
    " #Did we overshoot the pickup?\n",
    "if Rover.picking_up:\n",
    "    if not Rover.near_sample:\n",
    "        Rover.mode='stop'\n",
    "        Rover.picking_up=0\n",
    "        Rover.send_pickup = False\n",
    "        Rover.steer=-15\n",
    "    return Rover"
   ]
  },
  {
   "attachments": {},
   "cell_type": "markdown",
   "metadata": {},
   "source": [
    "5) The following lines of code are very vital for picking up the rocks\n",
    "\n",
    "* it detects if there are rocks in the rovers field of view\n",
    "* then it stops immediately and proceeds towards the rock slowly"
   ]
  },
  {
   "cell_type": "code",
   "execution_count": null,
   "metadata": {},
   "outputs": [],
   "source": [
    "#Steer to direction of the sample\n",
    "if len(Rover.samples_angles) > 1:\n",
    "        Rover.brake = Rover.brake_set\n",
    "        Rover.mode = 'stop'\n",
    "        Rover.steer = np.clip(np.mean(Rover.samples_angles * 180/np.pi), -15, 15)\n",
    "        if (np.mean(Rover.samples_dists) >= 4):\n",
    "            Rover.throttle = 0.4\n",
    "            Rover.brake = 0\n",
    "        elif (np.mean(Rover.samples_dists) <= 4):\n",
    "            Rover.brake = Rover.brake_set\n",
    "            Rover.near_sample = True\n",
    "        return Rover"
   ]
  },
  {
   "attachments": {},
   "cell_type": "markdown",
   "metadata": {},
   "source": [
    "5) This code is implemented twice once at the beggining of the decision step and once again in the stop state"
   ]
  },
  {
   "cell_type": "code",
   "execution_count": null,
   "metadata": {},
   "outputs": [],
   "source": [
    "elif Rover.mode == 'stop':\n",
    "    # If we're in stop mode but still moving keep braking\n",
    "    if len(Rover.samples_angles) > 1:\n",
    "        Rover.brake = Rover.brake_set\n",
    "        Rover.steer = np.clip(np.mean(Rover.samples_angles * 180/np.pi), -15, 15)\n",
    "        if (np.mean(Rover.samples_dists) >= 3):\n",
    "            Rover.throttle = 0.2\n",
    "            Rover.brake = 0\n",
    "        elif (np.mean(Rover.samples_dists) <= 3):\n",
    "            Rover.brake = Rover.brake_set\n",
    "            Rover.near_sample = True\n",
    "        return Rover"
   ]
  },
  {
   "attachments": {},
   "cell_type": "markdown",
   "metadata": {},
   "source": [
    "6) we have the forward state\n",
    "* First thing we do is we check if the rover is stuck in forward mode but not moving"
   ]
  },
  {
   "cell_type": "code",
   "execution_count": null,
   "metadata": {},
   "outputs": [],
   "source": [
    "# #check if STUCK under a rock but can see navigable terrain\n",
    "if Rover.vel <= 0.1 and Rover.throttle!=0 and len(Rover.samples_angles) == 0:\n",
    "    if time.time() - stuck_start_time > 1.5:\n",
    "        Rover = unstuck_action(Rover)\n",
    "        return Rover\n",
    "    else:\n",
    "                stuck_start_time = time.time()"
   ]
  },
  {
   "attachments": {},
   "cell_type": "markdown",
   "metadata": {},
   "source": [
    "* we check for navigable terrain and apply a throttle in the direction of the mean of the navigation angles"
   ]
  },
  {
   "cell_type": "code",
   "execution_count": null,
   "metadata": {},
   "outputs": [],
   "source": [
    "# Check the extent of navigable terrain\n",
    "if len(Rover.nav_angles) >= Rover.stop_forward:  \n",
    "    # If mode is forward, navigable terrain looks good \n",
    "    # and velocity is below max, then throttle \n",
    "    if Rover.vel < Rover.max_vel:\n",
    "        # Set throttle value to throttle setting\n",
    "        Rover.throttle = Rover.throttle_set\n",
    "    else: # Else coast\n",
    "        Rover.throttle = 0\n",
    "    Rover.brake = 0\n",
    "    # Set steering to average angle clipped to the range +/- 15\n",
    "    try:\n",
    "        Rover.steer = np.clip(np.mean(Rover.nav_angles * 180/np.pi) + offset, -15, 15)\n",
    "    except:\n",
    "        print(\"mean of nav angles caught an exception\")"
   ]
  },
  {
   "attachments": {},
   "cell_type": "markdown",
   "metadata": {},
   "source": [
    "* otherwise if theres a lack of navigable terrain we switch to stop mode where we navigate to the right (-15) in order to find navigable terrain"
   ]
  },
  {
   "cell_type": "code",
   "execution_count": null,
   "metadata": {},
   "outputs": [],
   "source": [
    "# If there's a lack of navigable terrain pixels then go to 'stop' mode\n",
    "elif len(Rover.nav_angles) < Rover.stop_forward:\n",
    "        # Set mode to \"stop\" and hit the brakes!\n",
    "        Rover.throttle = 0\n",
    "        # Set brake to stored brake value\n",
    "        Rover.brake = Rover.brake_set\n",
    "        Rover.steer = np.clip(np.mean(Rover.nav_angles * 180/np.pi)+ offset, -15, 15)\n",
    "        Rover.mode = 'stop'"
   ]
  },
  {
   "attachments": {},
   "cell_type": "markdown",
   "metadata": {},
   "source": [
    "7) Stop mode\n",
    "* as discussed before the first thing we do in the stop state is check whether there are rock samples or not then if there are we immediately break then steer towards the samples"
   ]
  },
  {
   "cell_type": "code",
   "execution_count": 1,
   "metadata": {},
   "outputs": [
    {
     "ename": "SyntaxError",
     "evalue": "invalid syntax (2505194644.py, line 2)",
     "output_type": "error",
     "traceback": [
      "\u001b[0;36m  Cell \u001b[0;32mIn[1], line 2\u001b[0;36m\u001b[0m\n\u001b[0;31m    elif Rover.mode == 'stop':\u001b[0m\n\u001b[0m    ^\u001b[0m\n\u001b[0;31mSyntaxError\u001b[0m\u001b[0;31m:\u001b[0m invalid syntax\n"
     ]
    }
   ],
   "source": [
    " # If we're already in \"stop\" mode then make different decisions\n",
    "elif Rover.mode == 'stop':\n",
    "    # If we're in stop mode but still moving keep braking\n",
    "    if len(Rover.samples_angles) > 1:\n",
    "        Rover.brake = Rover.brake_set\n",
    "        Rover.steer = np.clip(np.mean(Rover.samples_angles * 180/np.pi), -15, 15)\n",
    "        if (np.mean(Rover.samples_dists) >= 3):\n",
    "            Rover.throttle = 0.2\n",
    "            Rover.brake = 0\n",
    "        elif (np.mean(Rover.samples_dists) <= 3):\n",
    "            Rover.brake = Rover.brake_set\n",
    "            Rover.near_sample = True\n",
    "        return Rover"
   ]
  },
  {
   "attachments": {},
   "cell_type": "markdown",
   "metadata": {},
   "source": [
    "8) (still in stop mode) we then check to se if we havent stopped completely then set the brakes and stop "
   ]
  },
  {
   "cell_type": "code",
   "execution_count": null,
   "metadata": {},
   "outputs": [],
   "source": [
    "if Rover.vel > 0.2:\n",
    "    Rover.throttle = 0\n",
    "    Rover.brake = Rover.brake_set\n",
    "    Rover.steer = 0"
   ]
  },
  {
   "attachments": {},
   "cell_type": "markdown",
   "metadata": {},
   "source": [
    "9) then we check if the velocity is below 0.2 and there isnt enough navigable terrain then we simply steer to the right (because we are hugging the left wall) otherwise if there is enough navigable terrain we move in the direction of the mean of the angles of the navigable terrain"
   ]
  },
  {
   "cell_type": "code",
   "execution_count": null,
   "metadata": {},
   "outputs": [],
   "source": [
    "elif Rover.vel <= 0.2:\n",
    "    # Now we're stopped and we have vision data to see if there's a path forward\n",
    "    if (len(Rover.nav_angles) < Rover.go_forward) and len(Rover.samples_angles) == 0:\n",
    "        Rover.throttle = 0\n",
    "        # Release the brake to allow turning\n",
    "        Rover.brake = 0\n",
    "        # Turn range is +/- 15 degrees, when stopped the next line will induce 4-wheel turning\n",
    "        Rover.steer = -15 # Could be more clever here about which way to turn\n",
    "    # If we're stopped but see sufficient navigable terrain in front then go!\n",
    "    if len(Rover.nav_angles) >= Rover.go_forward:\n",
    "        # Set throttle back to stored value\n",
    "        Rover.throttle = Rover.throttle_set\n",
    "        # Release the brake\n",
    "        Rover.brake = 0\n",
    "        # Set steer to mean angle\n",
    "        try:\n",
    "            Rover.steer = np.clip(np.mean(Rover.nav_angles  * 180/np.pi) + offset, -15, 15)\n",
    "        except:\n",
    "            print(\"mean of nav angles caught an exception\")\n",
    "        Rover.mode = 'forward'"
   ]
  },
  {
   "attachments": {},
   "cell_type": "markdown",
   "metadata": {},
   "source": [
    "10) finally we check if the rover is stuck in a circle because there are no navigable terrain then we start moving forward as soon as we see little navigable terrain (20)"
   ]
  },
  {
   "cell_type": "code",
   "execution_count": null,
   "metadata": {},
   "outputs": [],
   "source": [
    "if Rover.vel == 0 and Rover.steer == -15 and len(Rover.nav_angles) > 20 and len(Rover.samples_angles) == 0 :\n",
    "                Rover.steer = 0\n",
    "                Rover.throttle = 0.5\n",
    "                Rover.mode = 'forward'"
   ]
  }
 ],
 "metadata": {
  "kernelspec": {
   "display_name": "Python 3",
   "language": "python",
   "name": "python3"
  },
  "language_info": {
   "codemirror_mode": {
    "name": "ipython",
    "version": 3
   },
   "file_extension": ".py",
   "mimetype": "text/x-python",
   "name": "python",
   "nbconvert_exporter": "python",
   "pygments_lexer": "ipython3",
   "version": "3.10.6"
  },
  "orig_nbformat": 4,
  "vscode": {
   "interpreter": {
    "hash": "916dbcbb3f70747c44a77c7bcd40155683ae19c65e1c03b4aa3499c5328201f1"
   }
  }
 },
 "nbformat": 4,
 "nbformat_minor": 2
}
